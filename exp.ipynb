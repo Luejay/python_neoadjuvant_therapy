{
 "cells": [
  {
   "cell_type": "code",
   "execution_count": 1,
   "metadata": {},
   "outputs": [],
   "source": [
    "import pandas as pd\n",
    "from loaddata import defineTestSet,defineResponse,defineFeatures,defineTrainingSets,defineSplits\n",
    "import numpy as np\n",
    "import pickle\n",
    "\n",
    "from tools.model_roc import get_model_roc\n",
    "\n",
    "from sklearn.model_selection import RandomizedSearchCV\n",
    "\n",
    "from config import rand_var,ml_dir,ml_model_filename,ensemble_dir\n",
    "\n",
    "import os\n",
    "from datetime import datetime"
   ]
  },
  {
   "cell_type": "code",
   "execution_count": 11,
   "metadata": {},
   "outputs": [],
   "source": [
    "\n",
    "\n",
    "for i,(tr,ts) in enumerate(splits):\n",
    "    \n",
    "    xtrain_tr = Xtrain.iloc[tr,:]\n",
    "    ytrain_tr = ytrain_pCR.iloc[tr]\n",
    "    \n",
    "    \n",
    "    ml_dict[\"Logistic Regression\"].fit(xtrain_tr,ytrain_tr) \n",
    "    ml_dict[\"Random Forest Classifier\"].fit(xtrain_tr,ytrain_tr) \n",
    "    ensemble_model.fit(xtrain_tr,ytrain_tr) \n",
    "    \n",
    "    y_pred_logres = ml_dict[\"Logistic Regression\"].predict(Xtrain.iloc[ts,:])\n",
    "    y_pred_gb = ml_dict[\"Random Forest Classifier\"].predict(Xtrain.iloc[ts,:])\n",
    "    #y_pred_ensemble = ensemble_model.predict(Xtrain.iloc[ts,:])\n",
    " \n",
    "    #fp_rate, tp_rate, thresholds = roc_curve(ytrain_pCR.iloc[ts], y_pred)\n",
    "    \n",
    "    #roc_auc = auc(fp_rate, tp_rate)\n",
    "    #print(roc_auc)\n",
    "    \n",
    "    break\n",
    "\n",
    "\n"
   ]
  }
 ],
 "metadata": {
  "kernelspec": {
   "display_name": "Python 3",
   "language": "python",
   "name": "python3"
  },
  "language_info": {
   "codemirror_mode": {
    "name": "ipython",
    "version": 3
   },
   "file_extension": ".py",
   "mimetype": "text/x-python",
   "name": "python",
   "nbconvert_exporter": "python",
   "pygments_lexer": "ipython3",
   "version": "3.10.10"
  },
  "orig_nbformat": 4
 },
 "nbformat": 4,
 "nbformat_minor": 2
}
