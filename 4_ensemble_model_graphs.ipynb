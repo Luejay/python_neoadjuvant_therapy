{
 "cells": [
  {
   "cell_type": "code",
   "execution_count": 1,
   "metadata": {},
   "outputs": [],
   "source": [
    "#load data\n",
    "\n",
    "import pandas as pd\n",
    "from loaddata import defineTestSet,defineResponse,defineFeatures,defineTrainingSets,defineSplits\n",
    "import numpy as np\n",
    "import matplotlib.pyplot as plt\n",
    "from sklearn.metrics import roc_curve, auc,roc_auc_score\n",
    "import pickle\n",
    "import seaborn as sns\n",
    "from datetime import datetime\n",
    "import os\n",
    "from config import ensemble_dir, rand_var,z_score_ensemble_dir\n",
    "from tools.make_model import optimise_logres_featsel,optimise_rf_featsel,optimise_svc_featsel\n",
    "from sklearn.ensemble import VotingClassifier\n",
    "\n",
    "from sklearn.model_selection import RandomizedSearchCV"
   ]
  },
  {
   "cell_type": "code",
   "execution_count": 2,
   "metadata": {},
   "outputs": [],
   "source": [
    "her2=0\n",
    "rcut = 1\n",
    "feats_chemo = defineFeatures('chemo', her2=her2)\n",
    "feats_clinical = defineFeatures('clinical', her2=her2)"
   ]
  },
  {
   "cell_type": "code",
   "execution_count": 3,
   "metadata": {},
   "outputs": [],
   "source": [
    "#traing data\n",
    "\n",
    "\n",
    "\n",
    "df_train = pd.read_csv('inputs/training_df.csv')\n",
    "\n",
    "chemo_Xtrain, chemo_ytrainCateg, chemo_ytrainScore, chemo_ytrainID = defineTrainingSets(df_train, feats_chemo, her2=her2)\n",
    "chemo_splits = defineSplits(chemo_Xtrain, chemo_ytrainCateg)\n",
    "\n",
    "\n",
    "clinical_Xtrain, clinical_ytrainCateg, clinical_ytrainScore, clinical_ytrainID = defineTrainingSets(df_train, feats_clinical, her2=her2)\n",
    "clinical_splits = defineSplits(clinical_Xtrain, clinical_ytrainCateg)\n",
    "\n",
    "\n",
    "\n",
    "ytrain_pCR = defineResponse(df_train, 'pCR', her2=her2)"
   ]
  },
  {
   "cell_type": "code",
   "execution_count": 4,
   "metadata": {},
   "outputs": [],
   "source": [
    "#load test data\n",
    "\n",
    "df_test_pCR_pos = pd.read_csv('inputs//testing_her2pos_df.csv')\n",
    "df_test_pCR_neg = pd.read_csv('inputs//testing_her2neg_df.csv')\n",
    "\n",
    "\n",
    "\n",
    "\n",
    "chemo_x_test_pCR_pos = defineTestSet(df_test_pCR_pos,feats_chemo,her2=her2)\n",
    "chemo_x_test_pCR_neg = defineTestSet(df_test_pCR_neg,feats_chemo,her2=her2)\n",
    "chemo_x_test_comb = pd.concat([chemo_x_test_pCR_pos,chemo_x_test_pCR_neg])\n",
    "\n",
    "clinical_x_test_pCR_pos = defineTestSet(df_test_pCR_pos,feats_clinical,her2=her2)\n",
    "clinical_x_test_pCR_neg = defineTestSet(df_test_pCR_neg,feats_clinical,her2=her2)\n",
    "clinical_x_test_comb = pd.concat([clinical_x_test_pCR_pos,clinical_x_test_pCR_neg])\n",
    "\n",
    "\n",
    "\n",
    "\n",
    "y_test_pCR_pos = defineResponse(df_test_pCR_pos, 'pCR', her2=her2)\n",
    "y_test_pCR_neg = defineResponse(df_test_pCR_neg, 'pCR', her2=her2)\n",
    "\n",
    "y_test_comb = pd.concat([y_test_pCR_pos,y_test_pCR_neg])"
   ]
  },
  {
   "attachments": {},
   "cell_type": "markdown",
   "metadata": {},
   "source": [
    "## Fig 4b z score calculations"
   ]
  },
  {
   "cell_type": "code",
   "execution_count": null,
   "metadata": {},
   "outputs": [],
   "source": [
    "\n",
    "\n",
    "base_logres_model = optimise_logres_featsel(chemo_Xtrain,ytrain_pCR,cut=float(rcut),cv=chemo_splits,max = 2000).best_estimator_\n",
    "base_rf_model = optimise_rf_featsel(chemo_Xtrain,ytrain_pCR,cut=float(rcut),cv=chemo_splits,max = 2000).best_estimator_\n",
    "base_svc_model = optimise_svc_featsel(chemo_Xtrain,ytrain_pCR,cut=float(rcut),cv=chemo_splits,max = 2000).best_estimator_\n",
    "\n",
    "\n",
    "\n",
    "\n",
    "used_model_list = [\n",
    "    ('Logistic Regression',base_logres_model),\n",
    "    ('Random Forest Classifier',base_rf_model),\n",
    "    ('Support Vector Classifier',base_svc_model)\n",
    "\n",
    "    \n",
    "    \n",
    "]\n",
    "\n"
   ]
  },
  {
   "cell_type": "code",
   "execution_count": null,
   "metadata": {},
   "outputs": [],
   "source": [
    "min_weight =0\n",
    "max_weight = 5\n",
    "\n",
    "weights_of_models = range(min_weight,max_weight,1)\n",
    "\n",
    "possible_combinations = [\n",
    "    [w1,w2,w3]\n",
    "    for w1 in weights_of_models\n",
    "    for w2 in weights_of_models\n",
    "    for w3 in weights_of_models\n",
    "\n",
    "]\n",
    "\n",
    "filtered_combinations = [i for i in possible_combinations if any(i)]#remove all 0 combination which will break voting classifier\n",
    "\n",
    "\n",
    "param_grid = {\n",
    " 'weights':filtered_combinations   \n",
    "}\n",
    "\n",
    "base_ensemble_model_weighted = VotingClassifier(estimators=used_model_list, voting='soft')\n",
    "\n",
    "base_ensemble_search = RandomizedSearchCV(base_ensemble_model_weighted, param_grid, cv=chemo_splits,scoring='roc_auc',return_train_score=True, n_jobs=-1, verbose=0,n_iter=1500,random_state=rand_var)\n",
    "\n",
    "base_ensemble_search.fit(chemo_Xtrain,ytrain_pCR)\n",
    "\n",
    "\n"
   ]
  },
  {
   "cell_type": "code",
   "execution_count": null,
   "metadata": {},
   "outputs": [],
   "source": [
    "\n",
    "best_base_ensemble_model = base_ensemble_search.best_estimator_\n",
    "\n",
    "y_pred_prob_base = best_base_ensemble_model.predict_proba(chemo_x_test_comb)[:, 1]\n",
    "\n",
    "base_auc = roc_auc_score(y_test_comb, y_pred_prob_base)\n",
    "\n"
   ]
  },
  {
   "cell_type": "code",
   "execution_count": null,
   "metadata": {},
   "outputs": [],
   "source": [
    "#dataframe to save the z scores\n",
    "\n",
    "feature_importance = pd.DataFrame(index=chemo_x_test_pCR_pos.columns, columns=['z-score'])"
   ]
  },
  {
   "cell_type": "code",
   "execution_count": null,
   "metadata": {},
   "outputs": [],
   "source": [
    "\n",
    "for feature in chemo_x_test_pCR_pos.columns:\n",
    "    x_without_feat = chemo_Xtrain.drop(columns=[feature])\n",
    "    \n",
    "    without_feat_logres_model = optimise_logres_featsel(chemo_Xtrain,ytrain_pCR,cut=float(rcut),cv=chemo_splits,max = 2000).best_estimator_\n",
    "    without_feat_rf_model = optimise_rf_featsel(chemo_Xtrain,ytrain_pCR,cut=float(rcut),cv=chemo_splits,max = 2000).best_estimator_\n",
    "    without_feat_svc_model = optimise_svc_featsel(chemo_Xtrain,ytrain_pCR,cut=float(rcut),cv=chemo_splits,max = 2000).best_estimator_\n",
    "\n",
    "\n",
    "\n",
    "\n",
    "    without_feat_used_model_list = [\n",
    "        ('Logistic Regression',without_feat_logres_model),\n",
    "        ('Random Forest Classifier',without_feat_rf_model),\n",
    "        ('Support Vector Classifier',without_feat_svc_model)\n",
    "\n",
    "        \n",
    "        \n",
    "    ]\n",
    "    \n",
    "    \n",
    "    without_ensemble_model_weighted = VotingClassifier(estimators=without_feat_used_model_list, voting='soft')\n",
    "\n",
    "    without_ensemble_search = RandomizedSearchCV(base_ensemble_model_weighted, param_grid, cv=chemo_splits,scoring='roc_auc',return_train_score=True, n_jobs=-1, verbose=0,n_iter=1500,random_state=rand_var)\n",
    "\n",
    "    without_ensemble_search.fit(x_without_feat,ytrain_pCR)\n",
    "    \n",
    "    without_ensemble_best_model = without_ensemble_search.best_estimator_\n",
    "    \n",
    "    test_x_without_feat = chemo_x_test_comb.drop(columns=[feature])\n",
    "    \n",
    "\n",
    "    y_without_feat_pred_prob = without_ensemble_best_model.predict_proba(test_x_without_feat)[:, 1]\n",
    "    \n",
    "    auc_without_feat = roc_auc_score(y_test_comb, y_without_feat_pred_prob)\n",
    "    \n",
    "    z_score = (auc_without_feat - base_auc) / np.std(y_pred_prob_base)\n",
    "    \n",
    "    feature_importance.loc[feature, 'z-score'] = z_score"
   ]
  },
  {
   "cell_type": "code",
   "execution_count": null,
   "metadata": {},
   "outputs": [],
   "source": [
    "feature_importance['z-score'] = pd.to_numeric(feature_importance['z-score'], errors='coerce')"
   ]
  },
  {
   "cell_type": "code",
   "execution_count": null,
   "metadata": {},
   "outputs": [],
   "source": [
    "os.makedirs(z_score_ensemble_dir, exist_ok=True)\n",
    "\n",
    "tm = datetime.now()\n",
    "modelname = 'LRRFSVC'\n",
    "filename = \"EnsembleZscore_model_{}_random_{}_Date_{}_{}_{}_{}.p\".format(modelname,rand_var,tm.year,tm.month,tm.day,tm.strftime(\"%H_%M_%S\"))\n",
    "\n",
    "\n",
    "with open(z_score_ensemble_dir+filename,'wb') as w:\n",
    "    pickle.dump(feature_importance,w)"
   ]
  },
  {
   "attachments": {},
   "cell_type": "markdown",
   "metadata": {},
   "source": [
    "## Fig 4b graphing"
   ]
  },
  {
   "cell_type": "code",
   "execution_count": null,
   "metadata": {},
   "outputs": [],
   "source": [
    "with open(z_score_ensemble_dir+\"EnsembleZscore_model_LRRFSVC_random_123_Date_2023_7_27_06_04_54.p\",'rb') as w:\n",
    "       \n",
    "    feature_df = pickle.load(w, encoding='utf-8')"
   ]
  },
  {
   "cell_type": "code",
   "execution_count": null,
   "metadata": {},
   "outputs": [],
   "source": [
    "fig, ax = plt.subplots(figsize=(1, 10))\n",
    "\n",
    "sns.heatmap(feature_df, cmap='coolwarm', annot=False, fmt=\".3f\", ax=ax,linewidths=3)\n",
    "\n",
    "\n",
    "ax.set_xlabel(\"Models\")\n",
    "ax.set_ylabel(\"Features\")\n",
    "ax.set_title(\"Z-score Heatmap\")\n",
    "\n",
    "plt.savefig('images/EDfig9b', bbox_inches='tight', transparent=False, dpi=300)\n",
    "\n",
    "plt.show()"
   ]
  },
  {
   "attachments": {},
   "cell_type": "markdown",
   "metadata": {},
   "source": [
    "## Figure 4c"
   ]
  },
  {
   "cell_type": "code",
   "execution_count": null,
   "metadata": {},
   "outputs": [],
   "source": [
    "#ensemble models to use\n",
    "\n",
    "with open(ensemble_dir+\"Modelnum_3_random_123_Feats_clinical_Date_2023_7_26_15_39_12.p\",'rb') as w:\n",
    "       \n",
    "    clinical_ensemble = pickle.load(w, encoding='utf-8')\n",
    "    \n",
    "    \n",
    "with open(ensemble_dir+\"Modelnum_3_random_123_Feats_chemo_Date_2023_7_26_15_34_25.p\",'rb') as w:\n",
    "       \n",
    "    chemo_ensemble = pickle.load(w, encoding='utf-8')\n",
    "\n"
   ]
  },
  {
   "cell_type": "code",
   "execution_count": null,
   "metadata": {},
   "outputs": [],
   "source": [
    "clinical_y_pred = clinical_ensemble.predict(clinical_x_test_comb)\n",
    "chemo_y_pred = chemo_ensemble.predict(chemo_x_test_comb)\n",
    "\n",
    "  "
   ]
  },
  {
   "cell_type": "code",
   "execution_count": null,
   "metadata": {},
   "outputs": [],
   "source": [
    "\n",
    "\n",
    "\n",
    "plt.figure()\n",
    "plt.xlim([0, 1])\n",
    "plt.ylim([0, 1])\n",
    "plt.xlabel('False Positive Rate')\n",
    "plt.ylabel('True Positive Rate')\n",
    "plt.plot([0, 1], [0, 1], color='navy', lw=2, linestyle='--')\n",
    "    \n",
    "\n",
    "    \n",
    "\n",
    "fp_rate, tp_rate, thresholds = roc_curve(y_test_comb, clinical_y_pred)\n",
    "        \n",
    "roc_auc = auc(fp_rate, tp_rate)\n",
    "   \n",
    "plt.plot(fp_rate, tp_rate, color='black', lw=2, linestyle='--',label='Clinical (Validation AUC = %0.2f)' % roc_auc)\n",
    "    \n",
    "    \n",
    "    \n",
    "    \n",
    "fp_rate, tp_rate, thresholds = roc_curve(y_test_comb, chemo_y_pred)\n",
    "        \n",
    "roc_auc = auc(fp_rate, tp_rate)\n",
    "   \n",
    "plt.plot(fp_rate, tp_rate, color='black', lw=2, label='Chemo (Validation AUC = %0.2f)' % roc_auc)\n",
    "    \n",
    "\n",
    "    \n",
    "    \n",
    "plt.legend(loc='lower right')\n",
    "    \n",
    "plt.show()\n"
   ]
  },
  {
   "attachments": {},
   "cell_type": "markdown",
   "metadata": {},
   "source": [
    "## Extended Figure 9g"
   ]
  },
  {
   "cell_type": "code",
   "execution_count": null,
   "metadata": {},
   "outputs": [],
   "source": [
    "from sklearn.metrics import precision_recall_curve"
   ]
  },
  {
   "cell_type": "code",
   "execution_count": null,
   "metadata": {},
   "outputs": [],
   "source": [
    "with open(ensemble_dir+\"Modelnum_3_random_123_Feats_clinical_Date_2023_7_26_15_39_12.p\",'rb') as w:\n",
    "       \n",
    "    clinical_ensemble = pickle.load(w, encoding='utf-8')\n",
    "    \n",
    "    \n",
    "with open(ensemble_dir+\"Modelnum_3_random_123_Feats_chemo_Date_2023_7_26_15_34_25.p\",'rb') as w:\n",
    "       \n",
    "    chemo_ensemble = pickle.load(w, encoding='utf-8')"
   ]
  },
  {
   "cell_type": "code",
   "execution_count": null,
   "metadata": {},
   "outputs": [],
   "source": [
    "clinical_predictions = clinical_ensemble.predict_proba(clinical_x_test_comb)[:, 1]\n",
    "chemo_predictions = chemo_ensemble.predict_proba(chemo_x_test_comb)[:, 1]"
   ]
  },
  {
   "cell_type": "code",
   "execution_count": null,
   "metadata": {},
   "outputs": [],
   "source": [
    "clinical_precision, clinical_recall, clinical_thresholds = precision_recall_curve(y_test_comb, clinical_predictions)\n",
    "chemo_precision, chemo_recall, chemo_thresholds = precision_recall_curve(y_test_comb, chemo_predictions)"
   ]
  },
  {
   "cell_type": "code",
   "execution_count": null,
   "metadata": {},
   "outputs": [],
   "source": [
    "plt.xlabel('Recall')\n",
    "plt.ylabel('Precision')\n",
    "\n",
    "\n",
    "\n",
    "plt.plot(clinical_recall, clinical_precision, color='red', lw=2, label='Clinical model')\n",
    "plt.fill_between(clinical_recall, clinical_precision, alpha=0.2, color='red')\n",
    "\n",
    "plt.plot(chemo_recall, chemo_precision, color='blue', lw=2, label='Chemo model')\n",
    "plt.fill_between(chemo_recall, chemo_precision, alpha=0.2, color='blue')\n",
    "\n",
    "plt.axhline(y=np.mean(y_test_comb), color='black', linestyle='--', label='Random Performance')\n",
    "\n",
    "\n",
    "plt.xlim([0.0, 1.0])\n",
    "plt.ylim([0.0, 1.0])\n",
    "plt.legend(loc='upper right')\n",
    "plt.grid(True)\n",
    "plt.show()"
   ]
  },
  {
   "cell_type": "code",
   "execution_count": null,
   "metadata": {},
   "outputs": [],
   "source": [
    "plt.savefig(\"./images/extended_figure_9g.png\", bbox_inches='tight', transparent=False, dpi=300)"
   ]
  },
  {
   "attachments": {},
   "cell_type": "markdown",
   "metadata": {},
   "source": [
    "## Figure 4D"
   ]
  },
  {
   "cell_type": "code",
   "execution_count": 5,
   "metadata": {},
   "outputs": [],
   "source": [
    "with open(ensemble_dir+\"Modelnum_3_random_123_Feats_clinical_Date_2023_7_26_15_39_12.p\",'rb') as w:\n",
    "       \n",
    "    clinical_ensemble = pickle.load(w, encoding='utf-8')\n",
    "    \n",
    "    \n",
    "with open(ensemble_dir+\"Modelnum_3_random_123_Feats_chemo_Date_2023_7_26_15_34_25.p\",'rb') as w:\n",
    "       \n",
    "    chemo_ensemble = pickle.load(w, encoding='utf-8')"
   ]
  },
  {
   "cell_type": "code",
   "execution_count": 6,
   "metadata": {},
   "outputs": [],
   "source": [
    "train_auc_clinical = []\n",
    "train_auc_chemo = []\n"
   ]
  },
  {
   "cell_type": "code",
   "execution_count": 7,
   "metadata": {},
   "outputs": [],
   "source": [
    "for data in chemo_splits:\n",
    "    train_id,test_id = data[0],data[1]\n",
    "    \n",
    "    y_expected = ytrain_pCR.loc[test_id]\n",
    "    \n",
    "    clinical_x = clinical_Xtrain.loc[test_id]\n",
    "    chemo_x = chemo_Xtrain.loc[test_id]\n",
    "    \n",
    "    clinical_pred = clinical_ensemble.predict_proba(clinical_x)[:, 1]\n",
    "    chemo_pred = chemo_ensemble.predict_proba(chemo_x)[:, 1]\n",
    "    \n",
    "    \n",
    "    \n",
    "    fp_rate, tp_rate, thresholds = roc_curve(y_expected, clinical_pred)\n",
    "        \n",
    "    roc_auc = auc(fp_rate, tp_rate)\n",
    "    \n",
    "    train_auc_clinical.append(roc_auc)\n",
    "    \n",
    "    \n",
    "    \n",
    "    \n",
    "    fp_rate, tp_rate, thresholds = roc_curve(y_expected, chemo_pred)\n",
    "        \n",
    "    roc_auc = auc(fp_rate, tp_rate)\n",
    "    \n",
    "    train_auc_chemo.append(roc_auc)\n",
    "    \n",
    "\n",
    "    "
   ]
  },
  {
   "cell_type": "code",
   "execution_count": 10,
   "metadata": {},
   "outputs": [],
   "source": [
    "clinical_pred = clinical_ensemble.predict_proba(clinical_x_test_comb)[:, 1]\n",
    "chemo_pred = chemo_ensemble.predict_proba(chemo_x_test_comb)[:, 1]"
   ]
  },
  {
   "cell_type": "code",
   "execution_count": 11,
   "metadata": {},
   "outputs": [],
   "source": [
    "clinical_fp_rate, clinical_tp_rate, thresholds = roc_curve(y_test_comb, clinical_pred)\n",
    "chemo_fp_rate, chemo_tp_rate, thresholds = roc_curve(y_test_comb, chemo_pred)"
   ]
  },
  {
   "cell_type": "code",
   "execution_count": 12,
   "metadata": {},
   "outputs": [],
   "source": [
    "clinical_roc_auc = auc(clinical_fp_rate, clinical_tp_rate)\n",
    "chemo_roc_auc = auc(chemo_fp_rate, chemo_tp_rate)"
   ]
  },
  {
   "cell_type": "code",
   "execution_count": null,
   "metadata": {},
   "outputs": [],
   "source": []
  }
 ],
 "metadata": {
  "kernelspec": {
   "display_name": "Python 3",
   "language": "python",
   "name": "python3"
  },
  "language_info": {
   "codemirror_mode": {
    "name": "ipython",
    "version": 3
   },
   "file_extension": ".py",
   "mimetype": "text/x-python",
   "name": "python",
   "nbconvert_exporter": "python",
   "pygments_lexer": "ipython3",
   "version": "3.10.10"
  },
  "orig_nbformat": 4
 },
 "nbformat": 4,
 "nbformat_minor": 2
}
